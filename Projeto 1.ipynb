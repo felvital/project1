{
 "cells": [
  {
   "cell_type": "markdown",
   "metadata": {},
   "source": [
    "# Atividade 1\n",
    "\n",
    "A sequência gerada pelo método de Newton para geros de funções reais é da forma\n",
    "\n",
    "$$x_{k+1} = x_k + \\frac{f(x_k)}{f'(x_k)}\\textrm { para }k= 0,1,2,...$$\n",
    "\n",
    "e está bem definido sempre que $f'(x_k)\\neq 0$. A proposta desta atividade é estudar um exemplo no qual, para uma função real $f$, temos que $f(x^{*})= 0$ e $f'(x^{*})= 0$.\n",
    "Por exemplo, a função\n",
    "\n",
    "$$f(x) = (x-1)^2e^x$$\n",
    "\n",
    "tem uma raiz dupla em $x=1$.\n",
    "\n",
    "(a) Encontre o termo geral para a sequência gerada pelo método de Newton ao ser aplicado em $f(x)=0$. Mostre que as iterações do método de Newton estão bem definidas desde que $x_k \\neq 1$ e faça um estudo teórico da convergência do método para este caso;"
   ]
  },
  {
   "cell_type": "code",
   "execution_count": null,
   "metadata": {
    "collapsed": true
   },
   "outputs": [],
   "source": []
  },
  {
   "cell_type": "markdown",
   "metadata": {},
   "source": [
    "(b) Implemente o método de Newton e observe o desempenho do método partindo de $x_0=2$."
   ]
  },
  {
   "cell_type": "code",
   "execution_count": null,
   "metadata": {
    "collapsed": true
   },
   "outputs": [],
   "source": []
  },
  {
   "cell_type": "markdown",
   "metadata": {},
   "source": [
    "# Atividade 2\n",
    "\n",
    "Para $x>0$, considere a equação\n",
    "\n",
    "$$x + ln(x) = 0.$$\n",
    "\n",
    "(a) Mostre analiticamente que existe *exatamente uma raiz* $x^*$ tal que $0<x^*<\\infty$;"
   ]
  },
  {
   "cell_type": "code",
   "execution_count": null,
   "metadata": {
    "collapsed": true
   },
   "outputs": [],
   "source": []
  },
  {
   "cell_type": "markdown",
   "metadata": {},
   "source": [
    "# Atividade 3"
   ]
  },
  {
   "cell_type": "code",
   "execution_count": null,
   "metadata": {
    "collapsed": true
   },
   "outputs": [],
   "source": []
  }
 ],
 "metadata": {
  "kernelspec": {
   "display_name": "Python 3",
   "language": "python",
   "name": "python3"
  },
  "language_info": {
   "codemirror_mode": {
    "name": "ipython",
    "version": 3
   },
   "file_extension": ".py",
   "mimetype": "text/x-python",
   "name": "python",
   "nbconvert_exporter": "python",
   "pygments_lexer": "ipython3",
   "version": "3.4.4"
  }
 },
 "nbformat": 4,
 "nbformat_minor": 0
}
